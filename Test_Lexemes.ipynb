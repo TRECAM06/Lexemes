{
 "cells": [
  {
   "cell_type": "code",
   "execution_count": 1269,
   "source": [
    "from Lexemes_Incomplete import *"
   ],
   "outputs": [],
   "metadata": {}
  },
  {
   "cell_type": "code",
   "execution_count": 1270,
   "source": [
    "lexemes = [\r\n",
    "    Lxm_Op_Power,Lxm_Op_Int_Division,Lxm_Op_Bitshift_Right,Lxm_Op_Bitshift_Left,Lxm_Op_And,Lxm_Op_Or,Lxm_Op_Not_Equal,Lxm_Op_Double_Equal,Lxm_Op_Less_Equal,Lxm_Op_Greater_Equal,\r\n",
    "    Lxm_Op_Add,Lxm_Op_Subtract,Lxm_Op_Multiply,Lxm_Op_Division,Lxm_Op_Modulo,Lxm_Op_Bitwise_And,Lxm_Op_Bitwise_Or,Lxm_Op_Bitwise_Xor,Lxm_Op_Bitwise_Not,Lxm_Op_Not,Lxm_Op_Less,Lxm_Op_Greater,Lxm_Op_Equal,\r\n",
    "    Lxm_Close_Paren_Open,Lxm_Close_Paren_Close,Lxm_Close_Square_Open,Lxm_Close_Square_Close,Lxm_Close_Curly_Open,Lxm_Close_Curly_Close,\r\n",
    "    Lxm_Keywords_If,Lxm_Keywords_Else,Lxm_Keywords_While,\r\n",
    "    Lxm_Function_Log,Lxm_Function_Print,Lxm_Function_To_Int,Lxm_Function_To_Float,Lxm_Function_To_Bool,Lxm_Function_To_String,\r\n",
    "    Lxm_Line_End,\r\n",
    "]\r\n",
    "lexemes = [l() for l in lexemes]\r\n",
    "tests = [l.get_token() for l in lexemes]\r\n",
    "print(tests)"
   ],
   "outputs": [
    {
     "output_type": "stream",
     "name": "stdout",
     "text": [
      "['**', '//', '>>', '<<', '&&', '||', '!=', '==', '<=', '>=', '+', '-', '*', '/', '%', '&', '|', '^', '~', '!', '<', '>', '=', '(', ')', '[', ']', '{', '}', 'if', 'else', 'while', 'log', 'print', 'to_int', 'to_float', 'to_bool', 'to_string', ';']\n"
     ]
    }
   ],
   "metadata": {}
  },
  {
   "cell_type": "code",
   "execution_count": 1271,
   "source": [
    "def feed_lexemes(input_string, lexemes):\r\n",
    "    char_stream = list(input_string)+[None]\r\n",
    "    \r\n",
    "    [l.reset() for l in lexemes]\r\n",
    "\r\n",
    "    next_char = char_stream.pop(0)\r\n",
    "    while next_char:\r\n",
    "        for lxm in lexemes:\r\n",
    "            lxm.feed(next_char)\r\n",
    "        next_char = char_stream.pop(0)\r\n",
    "\r\n",
    "    return [(l.get_token(), l.get_captured()) for l in lexemes if l.is_complete()]"
   ],
   "outputs": [],
   "metadata": {}
  },
  {
   "cell_type": "code",
   "execution_count": 1272,
   "source": [
    "def test_lexemes(lexemes, tests):\r\n",
    "    for test in tests:\r\n",
    "        results = feed_lexemes(input_string=test, lexemes=lexemes)\r\n",
    "        print(\"test: {} \\t results: {}\".format(repr(test),results))\r\n"
   ],
   "outputs": [],
   "metadata": {}
  },
  {
   "cell_type": "code",
   "execution_count": 1273,
   "source": [
    "test_lexemes(lexemes, tests)"
   ],
   "outputs": [
    {
     "output_type": "stream",
     "name": "stdout",
     "text": [
      "test: '**' \t results: []\n",
      "test: '//' \t results: []\n",
      "test: '>>' \t results: []\n",
      "test: '<<' \t results: []\n",
      "test: '&&' \t results: []\n",
      "test: '||' \t results: []\n",
      "test: '!=' \t results: []\n",
      "test: '==' \t results: []\n",
      "test: '<=' \t results: []\n",
      "test: '>=' \t results: []\n",
      "test: '+' \t results: []\n",
      "test: '-' \t results: []\n",
      "test: '*' \t results: []\n",
      "test: '/' \t results: []\n",
      "test: '%' \t results: []\n",
      "test: '&' \t results: []\n",
      "test: '|' \t results: []\n",
      "test: '^' \t results: []\n",
      "test: '~' \t results: []\n",
      "test: '!' \t results: []\n",
      "test: '<' \t results: []\n",
      "test: '>' \t results: []\n",
      "test: '=' \t results: []\n",
      "test: '(' \t results: []\n",
      "test: ')' \t results: []\n",
      "test: '[' \t results: []\n",
      "test: ']' \t results: []\n",
      "test: '{' \t results: []\n",
      "test: '}' \t results: []\n",
      "test: 'if' \t results: []\n",
      "test: 'else' \t results: []\n",
      "test: 'while' \t results: []\n",
      "test: 'log' \t results: []\n",
      "test: 'print' \t results: []\n",
      "test: 'to_int' \t results: []\n",
      "test: 'to_float' \t results: []\n",
      "test: 'to_bool' \t results: []\n",
      "test: 'to_string' \t results: []\n",
      "test: ';' \t results: []\n"
     ]
    }
   ],
   "metadata": {}
  },
  {
   "cell_type": "code",
   "execution_count": 1274,
   "source": [
    "int_lexeme = Lxm_Literals_Int()\r\n",
    "float_lexeme = Lxm_Literals_Float()\r\n",
    "bool_lexeme = Lxm_Literals_Bool()\r\n",
    "string_lexeme = Lxm_Literals_String()\r\n",
    "iden_lexeme = Lxm_Identifiers_Iden()\r\n",
    "comment_single_lexeme = Lxm_Comment_Single()\r\n",
    "comment_block_lexeme = Lxm_Comment_Block()"
   ],
   "outputs": [],
   "metadata": {}
  },
  {
   "cell_type": "code",
   "execution_count": 1275,
   "source": [
    "lexemes = [\r\n",
    "    int_lexeme, float_lexeme, bool_lexeme,\r\n",
    "    string_lexeme, iden_lexeme,\r\n",
    "    comment_single_lexeme, comment_block_lexeme,\r\n",
    "]\r\n",
    "tests = [\r\n",
    "    '\"asdfsadfwefweuwhtu3t\"', '\"asdfsadfwefweu\\nwhtu3t\"',\r\n",
    "    \"123456\", \"-457645\",\r\n",
    "    \".07\", \"1.17\", \"12.\", \"-.89\", \"-134.23\", \"-1453.\", \".12.\", \"1.12.1\",\r\n",
    "    \"True\", \"False\",\r\n",
    "    \"Var_1\", \"_1var_1\",  \"__iden__\", \"__1234__\", \"12_var\",\r\n",
    "    \"# This is a comment\\n\", \"/*This is\\nalso a\\ncomment*/\", \"/* *** */\",\r\n",
    "    \"/* not a comment *\"\r\n",
    "]"
   ],
   "outputs": [],
   "metadata": {}
  },
  {
   "cell_type": "code",
   "execution_count": 1276,
   "source": [
    "test_lexemes(lexemes, tests)"
   ],
   "outputs": [
    {
     "output_type": "stream",
     "name": "stdout",
     "text": [
      "test: '\"asdfsadfwefweuwhtu3t\"' \t results: []\n",
      "test: '\"asdfsadfwefweu\\nwhtu3t\"' \t results: []\n",
      "test: '123456' \t results: []\n",
      "test: '-457645' \t results: []\n",
      "test: '.07' \t results: []\n",
      "test: '1.17' \t results: []\n",
      "test: '12.' \t results: []\n",
      "test: '-.89' \t results: []\n",
      "test: '-134.23' \t results: []\n",
      "test: '-1453.' \t results: []\n",
      "test: '.12.' \t results: []\n",
      "test: '1.12.1' \t results: []\n",
      "test: 'True' \t results: []\n",
      "test: 'False' \t results: []\n",
      "test: 'Var_1' \t results: []\n",
      "test: '_1var_1' \t results: []\n",
      "test: '__iden__' \t results: []\n",
      "test: '__1234__' \t results: []\n",
      "test: '12_var' \t results: []\n",
      "test: '# This is a comment\\n' \t results: [('comment', '# This is a comment')]\n",
      "test: '/*This is\\nalso a\\ncomment*/' \t results: [('comment', '/*This is\\nalso a\\ncomment*/')]\n",
      "test: '/* *** */' \t results: [('comment', '/* *** */')]\n",
      "test: '/* not a comment *' \t results: []\n"
     ]
    }
   ],
   "metadata": {}
  },
  {
   "cell_type": "code",
   "execution_count": 1288,
   "source": [
    "print(float_lexeme._state)\r\n",
    "test_lexemes([float_lexeme],[ \".07\", \"1.17\", \"12.\", \"-.89\", \"-134.23\", \"-1453.\", \".12.\"])\r\n",
    "print(float_lexeme.get_captured())\r\n"
   ],
   "outputs": [
    {
     "output_type": "stream",
     "name": "stdout",
     "text": [
      "open\n",
      "test: '.07' \t results: []\n",
      "test: '1.17' \t results: []\n",
      "test: '12.' \t results: []\n",
      "test: '-.89' \t results: []\n",
      "test: '-134.23' \t results: []\n",
      "test: '-1453.' \t results: []\n",
      "test: '.12.' \t results: []\n"
     ]
    },
    {
     "output_type": "error",
     "ename": "TypeError",
     "evalue": "get_captured() takes 1 positional argument but 2 were given",
     "traceback": [
      "\u001b[1;31m---------------------------------------------------------------------------\u001b[0m",
      "\u001b[1;31mTypeError\u001b[0m                                 Traceback (most recent call last)",
      "\u001b[1;32m~\\AppData\\Local\\Temp/ipykernel_20924/1548007529.py\u001b[0m in \u001b[0;36m<module>\u001b[1;34m\u001b[0m\n\u001b[0;32m      1\u001b[0m \u001b[0mprint\u001b[0m\u001b[1;33m(\u001b[0m\u001b[0mfloat_lexeme\u001b[0m\u001b[1;33m.\u001b[0m\u001b[0m_state\u001b[0m\u001b[1;33m)\u001b[0m\u001b[1;33m\u001b[0m\u001b[1;33m\u001b[0m\u001b[0m\n\u001b[0;32m      2\u001b[0m \u001b[1;33m\u001b[0m\u001b[0m\n\u001b[1;32m----> 3\u001b[1;33m \u001b[0mprint\u001b[0m\u001b[1;33m(\u001b[0m\u001b[0mfloat_lexeme\u001b[0m\u001b[1;33m.\u001b[0m\u001b[0mget_captured\u001b[0m\u001b[1;33m(\u001b[0m\u001b[0mtest_lexemes\u001b[0m\u001b[1;33m(\u001b[0m\u001b[1;33m[\u001b[0m\u001b[0mfloat_lexeme\u001b[0m\u001b[1;33m]\u001b[0m\u001b[1;33m,\u001b[0m\u001b[1;33m[\u001b[0m \u001b[1;34m\".07\"\u001b[0m\u001b[1;33m,\u001b[0m \u001b[1;34m\"1.17\"\u001b[0m\u001b[1;33m,\u001b[0m \u001b[1;34m\"12.\"\u001b[0m\u001b[1;33m,\u001b[0m \u001b[1;34m\"-.89\"\u001b[0m\u001b[1;33m,\u001b[0m \u001b[1;34m\"-134.23\"\u001b[0m\u001b[1;33m,\u001b[0m \u001b[1;34m\"-1453.\"\u001b[0m\u001b[1;33m,\u001b[0m \u001b[1;34m\".12.\"\u001b[0m\u001b[1;33m]\u001b[0m\u001b[1;33m)\u001b[0m\u001b[1;33m)\u001b[0m\u001b[1;33m)\u001b[0m\u001b[1;33m\u001b[0m\u001b[1;33m\u001b[0m\u001b[0m\n\u001b[0m",
      "\u001b[1;31mTypeError\u001b[0m: get_captured() takes 1 positional argument but 2 were given"
     ]
    }
   ],
   "metadata": {}
  }
 ],
 "metadata": {
  "orig_nbformat": 4,
  "language_info": {
   "name": "python",
   "version": "3.7.8",
   "mimetype": "text/x-python",
   "codemirror_mode": {
    "name": "ipython",
    "version": 3
   },
   "pygments_lexer": "ipython3",
   "nbconvert_exporter": "python",
   "file_extension": ".py"
  },
  "kernelspec": {
   "name": "python3",
   "display_name": "Python 3.7.8 64-bit"
  },
  "interpreter": {
   "hash": "57baa5815c940fdaff4d14510622de9616cae602444507ba5d0b6727c008cbd6"
  }
 },
 "nbformat": 4,
 "nbformat_minor": 2
}